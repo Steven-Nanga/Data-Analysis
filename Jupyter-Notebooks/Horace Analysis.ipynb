{
 "cells": [
  {
   "cell_type": "markdown",
   "id": "378553a2",
   "metadata": {},
   "source": [
    "# GAGS  ANALYSIS"
   ]
  },
  {
   "cell_type": "markdown",
   "id": "80d34d01",
   "metadata": {},
   "source": [
    "## CS"
   ]
  },
  {
   "cell_type": "markdown",
   "id": "c4f4103e",
   "metadata": {},
   "source": [
    "### Importing Datasets and libralies "
   ]
  },
  {
   "cell_type": "code",
   "execution_count": 1,
   "id": "fe371adc",
   "metadata": {},
   "outputs": [
    {
     "data": {
      "text/html": [
       "<div>\n",
       "<style scoped>\n",
       "    .dataframe tbody tr th:only-of-type {\n",
       "        vertical-align: middle;\n",
       "    }\n",
       "\n",
       "    .dataframe tbody tr th {\n",
       "        vertical-align: top;\n",
       "    }\n",
       "\n",
       "    .dataframe thead th {\n",
       "        text-align: right;\n",
       "    }\n",
       "</style>\n",
       "<table border=\"1\" class=\"dataframe\">\n",
       "  <thead>\n",
       "    <tr style=\"text-align: right;\">\n",
       "      <th></th>\n",
       "      <th>RAT ID</th>\n",
       "      <th>GROUP</th>\n",
       "      <th>Weight</th>\n",
       "      <th>CS</th>\n",
       "      <th>HS</th>\n",
       "      <th>HA</th>\n",
       "      <th>TIME</th>\n",
       "    </tr>\n",
       "  </thead>\n",
       "  <tbody>\n",
       "    <tr>\n",
       "      <th>0</th>\n",
       "      <td>10.0</td>\n",
       "      <td>GROUP A</td>\n",
       "      <td>210.0</td>\n",
       "      <td>0.091886</td>\n",
       "      <td>64.477164</td>\n",
       "      <td>135.244496</td>\n",
       "      <td>AT THE BEGINNING</td>\n",
       "    </tr>\n",
       "    <tr>\n",
       "      <th>1</th>\n",
       "      <td>12.0</td>\n",
       "      <td>GROUP A</td>\n",
       "      <td>235.0</td>\n",
       "      <td>0.031977</td>\n",
       "      <td>74.095556</td>\n",
       "      <td>135.244496</td>\n",
       "      <td>AT THE BEGINNING</td>\n",
       "    </tr>\n",
       "    <tr>\n",
       "      <th>2</th>\n",
       "      <td>14.0</td>\n",
       "      <td>GROUP A</td>\n",
       "      <td>240.0</td>\n",
       "      <td>0.054163</td>\n",
       "      <td>45.666236</td>\n",
       "      <td>5.038963</td>\n",
       "      <td>AT THE BEGINNING</td>\n",
       "    </tr>\n",
       "    <tr>\n",
       "      <th>3</th>\n",
       "      <td>25.0</td>\n",
       "      <td>GROUP A</td>\n",
       "      <td>260.0</td>\n",
       "      <td>0.085626</td>\n",
       "      <td>34.652227</td>\n",
       "      <td>215.779759</td>\n",
       "      <td>AT THE BEGINNING</td>\n",
       "    </tr>\n",
       "    <tr>\n",
       "      <th>4</th>\n",
       "      <td>29.0</td>\n",
       "      <td>GROUP A</td>\n",
       "      <td>210.0</td>\n",
       "      <td>0.009656</td>\n",
       "      <td>34.197746</td>\n",
       "      <td>46.978819</td>\n",
       "      <td>AT THE BEGINNING</td>\n",
       "    </tr>\n",
       "  </tbody>\n",
       "</table>\n",
       "</div>"
      ],
      "text/plain": [
       "   RAT ID    GROUP  Weight        CS         HS          HA              TIME\n",
       "0    10.0  GROUP A   210.0  0.091886  64.477164  135.244496  AT THE BEGINNING\n",
       "1    12.0  GROUP A   235.0  0.031977  74.095556  135.244496  AT THE BEGINNING\n",
       "2    14.0  GROUP A   240.0  0.054163  45.666236    5.038963  AT THE BEGINNING\n",
       "3    25.0  GROUP A   260.0  0.085626  34.652227  215.779759  AT THE BEGINNING\n",
       "4    29.0  GROUP A   210.0  0.009656  34.197746   46.978819  AT THE BEGINNING"
      ]
     },
     "execution_count": 1,
     "metadata": {},
     "output_type": "execute_result"
    }
   ],
   "source": [
    "import pandas as pd\n",
    "import seaborn as sns\n",
    "import matplotlib.pyplot as plt\n",
    "\n",
    "df = pd.read_csv('data.csv')\n",
    "\n",
    "df.head()"
   ]
  },
  {
   "cell_type": "markdown",
   "id": "83355dd6",
   "metadata": {},
   "source": [
    "### Descriptive statistics for weights"
   ]
  },
  {
   "cell_type": "code",
   "execution_count": 2,
   "id": "e8fcb839",
   "metadata": {},
   "outputs": [
    {
     "data": {
      "text/html": [
       "<div>\n",
       "<style scoped>\n",
       "    .dataframe tbody tr th:only-of-type {\n",
       "        vertical-align: middle;\n",
       "    }\n",
       "\n",
       "    .dataframe tbody tr th {\n",
       "        vertical-align: top;\n",
       "    }\n",
       "\n",
       "    .dataframe thead th {\n",
       "        text-align: right;\n",
       "    }\n",
       "</style>\n",
       "<table border=\"1\" class=\"dataframe\">\n",
       "  <thead>\n",
       "    <tr style=\"text-align: right;\">\n",
       "      <th></th>\n",
       "      <th>count</th>\n",
       "      <th>mean</th>\n",
       "      <th>std</th>\n",
       "      <th>min</th>\n",
       "      <th>25%</th>\n",
       "      <th>50%</th>\n",
       "      <th>75%</th>\n",
       "      <th>max</th>\n",
       "    </tr>\n",
       "    <tr>\n",
       "      <th>GROUP</th>\n",
       "      <th></th>\n",
       "      <th></th>\n",
       "      <th></th>\n",
       "      <th></th>\n",
       "      <th></th>\n",
       "      <th></th>\n",
       "      <th></th>\n",
       "      <th></th>\n",
       "    </tr>\n",
       "  </thead>\n",
       "  <tbody>\n",
       "    <tr>\n",
       "      <th>GROUP A</th>\n",
       "      <td>15.0</td>\n",
       "      <td>233.866667</td>\n",
       "      <td>18.145707</td>\n",
       "      <td>208.0</td>\n",
       "      <td>220.0</td>\n",
       "      <td>240.0</td>\n",
       "      <td>245.0</td>\n",
       "      <td>260.0</td>\n",
       "    </tr>\n",
       "    <tr>\n",
       "      <th>GROUP B</th>\n",
       "      <td>15.0</td>\n",
       "      <td>214.666667</td>\n",
       "      <td>35.979492</td>\n",
       "      <td>160.0</td>\n",
       "      <td>192.5</td>\n",
       "      <td>210.0</td>\n",
       "      <td>235.0</td>\n",
       "      <td>290.0</td>\n",
       "    </tr>\n",
       "    <tr>\n",
       "      <th>GROUP C</th>\n",
       "      <td>13.0</td>\n",
       "      <td>205.461538</td>\n",
       "      <td>37.975026</td>\n",
       "      <td>150.0</td>\n",
       "      <td>180.0</td>\n",
       "      <td>208.0</td>\n",
       "      <td>230.0</td>\n",
       "      <td>270.0</td>\n",
       "    </tr>\n",
       "    <tr>\n",
       "      <th>GROUP D</th>\n",
       "      <td>13.0</td>\n",
       "      <td>256.923077</td>\n",
       "      <td>33.769961</td>\n",
       "      <td>210.0</td>\n",
       "      <td>240.0</td>\n",
       "      <td>252.0</td>\n",
       "      <td>290.0</td>\n",
       "      <td>300.0</td>\n",
       "    </tr>\n",
       "    <tr>\n",
       "      <th>GROUP E</th>\n",
       "      <td>15.0</td>\n",
       "      <td>229.800000</td>\n",
       "      <td>17.143095</td>\n",
       "      <td>200.0</td>\n",
       "      <td>217.5</td>\n",
       "      <td>230.0</td>\n",
       "      <td>239.0</td>\n",
       "      <td>260.0</td>\n",
       "    </tr>\n",
       "    <tr>\n",
       "      <th>GROUP F</th>\n",
       "      <td>11.0</td>\n",
       "      <td>234.818182</td>\n",
       "      <td>32.064991</td>\n",
       "      <td>160.0</td>\n",
       "      <td>234.0</td>\n",
       "      <td>240.0</td>\n",
       "      <td>250.0</td>\n",
       "      <td>278.0</td>\n",
       "    </tr>\n",
       "  </tbody>\n",
       "</table>\n",
       "</div>"
      ],
      "text/plain": [
       "         count        mean        std    min    25%    50%    75%    max\n",
       "GROUP                                                                   \n",
       "GROUP A   15.0  233.866667  18.145707  208.0  220.0  240.0  245.0  260.0\n",
       "GROUP B   15.0  214.666667  35.979492  160.0  192.5  210.0  235.0  290.0\n",
       "GROUP C   13.0  205.461538  37.975026  150.0  180.0  208.0  230.0  270.0\n",
       "GROUP D   13.0  256.923077  33.769961  210.0  240.0  252.0  290.0  300.0\n",
       "GROUP E   15.0  229.800000  17.143095  200.0  217.5  230.0  239.0  260.0\n",
       "GROUP F   11.0  234.818182  32.064991  160.0  234.0  240.0  250.0  278.0"
      ]
     },
     "execution_count": 2,
     "metadata": {},
     "output_type": "execute_result"
    }
   ],
   "source": [
    " df.groupby('GROUP')['Weight'].describe()\n"
   ]
  },
  {
   "cell_type": "markdown",
   "id": "df514a65",
   "metadata": {},
   "source": [
    "### Visualisation of Weights Descriptive statistics using Boxplots"
   ]
  },
  {
   "cell_type": "code",
   "execution_count": 3,
   "id": "a5ca0007",
   "metadata": {},
   "outputs": [
    {
     "data": {
      "image/png": "[encoded data removed]",
      "text/plain": [
       "<Figure size 1000x600 with 1 Axes>"
      ]
     },
     "metadata": {},
     "output_type": "display_data"
    }
   ],
   "source": [
    "plt.figure(figsize=(10,6))\n",
    "sns.boxplot(x='GROUP', y='Weight', hue ='TIME', data=df)\n",
    "plt.show()"
   ]
  },
  {
   "cell_type": "markdown",
   "id": "ddc408ab",
   "metadata": {},
   "source": [
    "### Descriptive statistics for CS"
   ]
  },
  {
   "cell_type": "code",
   "execution_count": 4,
   "id": "dbc5638e",
   "metadata": {},
   "outputs": [
    {
     "data": {
      "text/html": [
       "<div>\n",
       "<style scoped>\n",
       "    .dataframe tbody tr th:only-of-type {\n",
       "        vertical-align: middle;\n",
       "    }\n",
       "\n",
       "    .dataframe tbody tr th {\n",
       "        vertical-align: top;\n",
       "    }\n",
       "\n",
       "    .dataframe thead th {\n",
       "        text-align: right;\n",
       "    }\n",
       "</style>\n",
       "<table border=\"1\" class=\"dataframe\">\n",
       "  <thead>\n",
       "    <tr style=\"text-align: right;\">\n",
       "      <th></th>\n",
       "      <th>count</th>\n",
       "      <th>mean</th>\n",
       "      <th>std</th>\n",
       "      <th>min</th>\n",
       "      <th>25%</th>\n",
       "      <th>50%</th>\n",
       "      <th>75%</th>\n",
       "      <th>max</th>\n",
       "    </tr>\n",
       "    <tr>\n",
       "      <th>GROUP</th>\n",
       "      <th></th>\n",
       "      <th></th>\n",
       "      <th></th>\n",
       "      <th></th>\n",
       "      <th></th>\n",
       "      <th></th>\n",
       "      <th></th>\n",
       "      <th></th>\n",
       "    </tr>\n",
       "  </thead>\n",
       "  <tbody>\n",
       "    <tr>\n",
       "      <th>GROUP A</th>\n",
       "      <td>10.0</td>\n",
       "      <td>0.236279</td>\n",
       "      <td>0.192928</td>\n",
       "      <td>0.009656</td>\n",
       "      <td>0.062029</td>\n",
       "      <td>0.250933</td>\n",
       "      <td>0.413489</td>\n",
       "      <td>0.428652</td>\n",
       "    </tr>\n",
       "    <tr>\n",
       "      <th>GROUP B</th>\n",
       "      <td>15.0</td>\n",
       "      <td>0.289801</td>\n",
       "      <td>0.188795</td>\n",
       "      <td>0.012853</td>\n",
       "      <td>0.052542</td>\n",
       "      <td>0.412193</td>\n",
       "      <td>0.418199</td>\n",
       "      <td>0.436892</td>\n",
       "    </tr>\n",
       "    <tr>\n",
       "      <th>GROUP C</th>\n",
       "      <td>11.0</td>\n",
       "      <td>0.263781</td>\n",
       "      <td>0.182877</td>\n",
       "      <td>0.025613</td>\n",
       "      <td>0.060465</td>\n",
       "      <td>0.411064</td>\n",
       "      <td>0.414593</td>\n",
       "      <td>0.438812</td>\n",
       "    </tr>\n",
       "    <tr>\n",
       "      <th>GROUP D</th>\n",
       "      <td>14.0</td>\n",
       "      <td>0.312777</td>\n",
       "      <td>0.169139</td>\n",
       "      <td>0.035155</td>\n",
       "      <td>0.166869</td>\n",
       "      <td>0.411967</td>\n",
       "      <td>0.415223</td>\n",
       "      <td>0.539994</td>\n",
       "    </tr>\n",
       "    <tr>\n",
       "      <th>GROUP E</th>\n",
       "      <td>15.0</td>\n",
       "      <td>0.308530</td>\n",
       "      <td>0.162255</td>\n",
       "      <td>0.003254</td>\n",
       "      <td>0.178406</td>\n",
       "      <td>0.413129</td>\n",
       "      <td>0.414096</td>\n",
       "      <td>0.422278</td>\n",
       "    </tr>\n",
       "    <tr>\n",
       "      <th>GROUP F</th>\n",
       "      <td>10.0</td>\n",
       "      <td>0.246607</td>\n",
       "      <td>0.181124</td>\n",
       "      <td>0.028796</td>\n",
       "      <td>0.087183</td>\n",
       "      <td>0.269392</td>\n",
       "      <td>0.415116</td>\n",
       "      <td>0.421385</td>\n",
       "    </tr>\n",
       "  </tbody>\n",
       "</table>\n",
       "</div>"
      ],
      "text/plain": [
       "         count      mean       std       min       25%       50%       75%  \\\n",
       "GROUP                                                                        \n",
       "GROUP A   10.0  0.236279  0.192928  0.009656  0.062029  0.250933  0.413489   \n",
       "GROUP B   15.0  0.289801  0.188795  0.012853  0.052542  0.412193  0.418199   \n",
       "GROUP C   11.0  0.263781  0.182877  0.025613  0.060465  0.411064  0.414593   \n",
       "GROUP D   14.0  0.312777  0.169139  0.035155  0.166869  0.411967  0.415223   \n",
       "GROUP E   15.0  0.308530  0.162255  0.003254  0.178406  0.413129  0.414096   \n",
       "GROUP F   10.0  0.246607  0.181124  0.028796  0.087183  0.269392  0.415116   \n",
       "\n",
       "              max  \n",
       "GROUP              \n",
       "GROUP A  0.428652  \n",
       "GROUP B  0.436892  \n",
       "GROUP C  0.438812  \n",
       "GROUP D  0.539994  \n",
       "GROUP E  0.422278  \n",
       "GROUP F  0.421385  "
      ]
     },
     "execution_count": 4,
     "metadata": {},
     "output_type": "execute_result"
    }
   ],
   "source": [
    "df.groupby('GROUP')['CS'].describe()"
   ]
  },
  {
   "cell_type": "code",
   "execution_count": 5,
   "id": "0e73a3dc",
   "metadata": {},
   "outputs": [
    {
     "data": {
      "image/png": "[encoded data removed]",
      "text/plain": [
       "<Figure size 1000x600 with 1 Axes>"
      ]
     },
     "metadata": {},
     "output_type": "display_data"
    }
   ],
   "source": [
    "plt.figure(figsize=(10,6))\n",
    "sns.boxplot(x='GROUP', y='CS', hue ='TIME', data=df)\n",
    "plt.show()"
   ]
  },
  {
   "cell_type": "code",
   "execution_count": null,
   "id": "c65de18b",
   "metadata": {},
   "outputs": [],
   "source": []
  }
 ],
 "metadata": {
  "kernelspec": {
   "display_name": "Python 3 (ipykernel)",
   "language": "python",
   "name": "python3"
  },
  "language_info": {
   "codemirror_mode": {
    "name": "ipython",
    "version": 3
   },
   "file_extension": ".py",
   "mimetype": "text/x-python",
   "name": "python",
   "nbconvert_exporter": "python",
   "pygments_lexer": "ipython3",
   "version": "3.11.3"
  }
 },
 "nbformat": 4,
 "nbformat_minor": 5
}
